{
 "cells": [
  {
   "cell_type": "markdown",
   "id": "0ef638e4",
   "metadata": {},
   "source": [
    "# Imports"
   ]
  },
  {
   "cell_type": "code",
   "execution_count": 1,
   "id": "9853e7b9",
   "metadata": {},
   "outputs": [],
   "source": [
    "import yfinance as yf\n",
    "import pandas as pd\n",
    "import numpy as np\n",
    "from yahooquery import Ticker as yq\n",
    "import requests\n",
    "from bs4 import BeautifulSoup\n",
    "import openpyxl\n",
    "import time\n",
    "\n",
    "import logging\n",
    "logger = logging.getLogger('peewee')\n",
    "logger.setLevel(logging.INFO)  "
   ]
  },
  {
   "cell_type": "markdown",
   "id": "6520fad6",
   "metadata": {},
   "source": [
    "# ETF Time Series Data"
   ]
  },
  {
   "cell_type": "markdown",
   "id": "76aad953",
   "metadata": {},
   "source": [
    "The data for this section was sourced using the Yahoo Finance API."
   ]
  },
  {
   "cell_type": "code",
   "execution_count": null,
   "id": "e425b01b",
   "metadata": {},
   "outputs": [],
   "source": [
    "# Increase pandas display precision for floats\n",
    "pd.set_option('display.float_format', '{:.6f}'.format)\n",
    "\n",
    "def fetch_ohlcv(ticker: str,\n",
    "                prefix: str,\n",
    "                start: str,\n",
    "                end: str,\n",
    "                auto_adjust: bool = True) -> pd.DataFrame:\n",
    "    \"\"\"\n",
    "    Download daily OHLCV for `ticker` via yfinance,\n",
    "    then rename columns to '<prefix>_Open', '<prefix>_High', etc.\n",
    "    \"\"\"\n",
    "    df = yf.download(\n",
    "        tickers=ticker,\n",
    "        start=start,\n",
    "        end=end,\n",
    "        auto_adjust=auto_adjust,\n",
    "        progress=False,\n",
    "        group_by='column'\n",
    "    )[[\"Open\",\"High\",\"Low\",\"Close\",\"Volume\"]]\n",
    "    # Flatten MultiIndex if present\n",
    "    if isinstance(df.columns, pd.MultiIndex):\n",
    "        df.columns = df.columns.get_level_values(0)\n",
    "    # Prefix columns\n",
    "    df = df.rename(columns=lambda c: f\"{prefix}_{c}\")\n",
    "    df.index = pd.to_datetime(df.index)\n",
    "    return df\n",
    "\n",
    "def build_monthly_te_series(etf: str,\n",
    "                            benchmark: str,\n",
    "                            start: str,\n",
    "                            end: str,\n",
    "                            decimal_places: int = 6) -> pd.DataFrame:\n",
    "    \"\"\"\n",
    "    1) Fetch daily OHLCV for ETF and benchmark.\n",
    "    2) Resample ETF daily OHLCV to month-end ('ME'):\n",
    "         - ETF_Open   = first open of the month\n",
    "         - ETF_High   = max high in the month\n",
    "         - ETF_Low    = min low in the month\n",
    "         - ETF_Close  = last close of the month\n",
    "         - ETF_Volume = total monthly volume\n",
    "    3) Resample benchmark daily Close to month-end:\n",
    "         - Benchmark_Close = last close of the month\n",
    "    4) Compute monthly returns:\n",
    "         - ETF_Return       = (ETF_Close_t / ETF_Close_{t-1}) - 1\n",
    "         - Benchmark_Return = (Benchmark_Close_t / Benchmark_Close_{t-1}) - 1\n",
    "    5) Compute benchmark volatility within each month:\n",
    "         - daily_ret_t = (Benchmark_Close_t / Benchmark_Close_{t-1}) - 1\n",
    "         - Benchmark_Volatility = std(daily_ret) over each calendar month\n",
    "    6) Compute Tracking Error:\n",
    "         - Tracking_Error  = ETF_Return − Benchmark_Return\n",
    "    7) Merge all into one DataFrame indexed by month (YYYY-MM), round to desired precision, and drop NaNs.\n",
    "    \"\"\"\n",
    "    # 1) Daily data\n",
    "    etf_daily   = fetch_ohlcv(etf,       \"ETF\",       start, end)\n",
    "    bench_daily = fetch_ohlcv(benchmark, \"Benchmark\", start, end)\n",
    "\n",
    "    # 2) Monthly ETF OHLCV\n",
    "    monthly_etf = etf_daily.resample('ME').agg({\n",
    "        'ETF_Open':   'first',\n",
    "        'ETF_High':   'max',\n",
    "        'ETF_Low':    'min',\n",
    "        'ETF_Close':  'last',\n",
    "        'ETF_Volume': 'sum',\n",
    "    })\n",
    "\n",
    "    # 3) Monthly benchmark Close\n",
    "    monthly_bench = bench_daily[['Benchmark_Close']].resample('ME').last()\n",
    "\n",
    "    # 4) Monthly returns\n",
    "    monthly_etf['ETF_Return']         = monthly_etf['ETF_Close'].pct_change()\n",
    "    monthly_bench['Benchmark_Return'] = monthly_bench['Benchmark_Close'].pct_change()\n",
    "\n",
    "    # 5) Benchmark volatility: std of daily returns per month\n",
    "    daily_bench_ret = bench_daily['Benchmark_Close'].pct_change()\n",
    "    bench_vol = daily_bench_ret.resample('ME').std().rename('Benchmark_Volatility')\n",
    "    monthly_bench = monthly_bench.join(bench_vol)\n",
    "\n",
    "    # 6) Tracking error\n",
    "    monthly_bench['Tracking_Error']          = (monthly_etf['ETF_Return'] - monthly_bench['Benchmark_Return'])\n",
    "\n",
    "    # 7) Combine\n",
    "    df_monthly = monthly_etf.join(\n",
    "        monthly_bench[[\n",
    "            'Benchmark_Return',\n",
    "            'Benchmark_Volatility',\n",
    "            'Tracking_Error'\n",
    "        ]]\n",
    "    ).dropna()\n",
    "\n",
    "    # Format index to year-month period\n",
    "    df_monthly.index = df_monthly.index.to_period('M')\n",
    "\n",
    "    # Round numeric columns to specified decimal places\n",
    "    return df_monthly.round(decimal_places)"
   ]
  },
  {
   "cell_type": "code",
   "execution_count": 3,
   "id": "71573073",
   "metadata": {},
   "outputs": [
    {
     "data": {
      "text/html": [
       "<div>\n",
       "<style scoped>\n",
       "    .dataframe tbody tr th:only-of-type {\n",
       "        vertical-align: middle;\n",
       "    }\n",
       "\n",
       "    .dataframe tbody tr th {\n",
       "        vertical-align: top;\n",
       "    }\n",
       "\n",
       "    .dataframe thead th {\n",
       "        text-align: right;\n",
       "    }\n",
       "</style>\n",
       "<table border=\"1\" class=\"dataframe\">\n",
       "  <thead>\n",
       "    <tr style=\"text-align: right;\">\n",
       "      <th></th>\n",
       "      <th>ETF_Open</th>\n",
       "      <th>ETF_High</th>\n",
       "      <th>ETF_Low</th>\n",
       "      <th>ETF_Close</th>\n",
       "      <th>ETF_Volume</th>\n",
       "      <th>ETF_Return</th>\n",
       "      <th>Benchmark_Return</th>\n",
       "      <th>Benchmark_Volatility</th>\n",
       "      <th>Tracking_Error</th>\n",
       "    </tr>\n",
       "    <tr>\n",
       "      <th>Date</th>\n",
       "      <th></th>\n",
       "      <th></th>\n",
       "      <th></th>\n",
       "      <th></th>\n",
       "      <th></th>\n",
       "      <th></th>\n",
       "      <th></th>\n",
       "      <th></th>\n",
       "      <th></th>\n",
       "    </tr>\n",
       "  </thead>\n",
       "  <tbody>\n",
       "    <tr>\n",
       "      <th>2005-01</th>\n",
       "      <td>34.282428</td>\n",
       "      <td>34.453456</td>\n",
       "      <td>31.178290</td>\n",
       "      <td>31.982122</td>\n",
       "      <td>2234773200</td>\n",
       "      <td>-0.063126</td>\n",
       "      <td>-0.062605</td>\n",
       "      <td>0.010865</td>\n",
       "      <td>-0.000522</td>\n",
       "    </tr>\n",
       "    <tr>\n",
       "      <th>2005-02</th>\n",
       "      <td>32.059075</td>\n",
       "      <td>32.905666</td>\n",
       "      <td>31.383544</td>\n",
       "      <td>31.828205</td>\n",
       "      <td>1765610600</td>\n",
       "      <td>-0.004813</td>\n",
       "      <td>-0.005666</td>\n",
       "      <td>0.010056</td>\n",
       "      <td>0.000853</td>\n",
       "    </tr>\n",
       "    <tr>\n",
       "      <th>2005-03</th>\n",
       "      <td>31.956476</td>\n",
       "      <td>32.743178</td>\n",
       "      <td>30.733606</td>\n",
       "      <td>31.272375</td>\n",
       "      <td>2133973700</td>\n",
       "      <td>-0.017463</td>\n",
       "      <td>-0.018855</td>\n",
       "      <td>0.008751</td>\n",
       "      <td>0.001391</td>\n",
       "    </tr>\n",
       "    <tr>\n",
       "      <th>2005-04</th>\n",
       "      <td>31.486132</td>\n",
       "      <td>31.699925</td>\n",
       "      <td>29.373952</td>\n",
       "      <td>29.912689</td>\n",
       "      <td>2345433600</td>\n",
       "      <td>-0.043479</td>\n",
       "      <td>-0.041645</td>\n",
       "      <td>0.012613</td>\n",
       "      <td>-0.001834</td>\n",
       "    </tr>\n",
       "    <tr>\n",
       "      <th>2005-05</th>\n",
       "      <td>30.015308</td>\n",
       "      <td>32.726082</td>\n",
       "      <td>29.835730</td>\n",
       "      <td>32.563622</td>\n",
       "      <td>1881340000</td>\n",
       "      <td>0.088622</td>\n",
       "      <td>0.085755</td>\n",
       "      <td>0.006330</td>\n",
       "      <td>0.002867</td>\n",
       "    </tr>\n",
       "  </tbody>\n",
       "</table>\n",
       "</div>"
      ],
      "text/plain": [
       "         ETF_Open  ETF_High   ETF_Low  ETF_Close  ETF_Volume  ETF_Return  \\\n",
       "Date                                                                       \n",
       "2005-01 34.282428 34.453456 31.178290  31.982122  2234773200   -0.063126   \n",
       "2005-02 32.059075 32.905666 31.383544  31.828205  1765610600   -0.004813   \n",
       "2005-03 31.956476 32.743178 30.733606  31.272375  2133973700   -0.017463   \n",
       "2005-04 31.486132 31.699925 29.373952  29.912689  2345433600   -0.043479   \n",
       "2005-05 30.015308 32.726082 29.835730  32.563622  1881340000    0.088622   \n",
       "\n",
       "         Benchmark_Return  Benchmark_Volatility  Tracking_Error  \n",
       "Date                                                             \n",
       "2005-01         -0.062605              0.010865       -0.000522  \n",
       "2005-02         -0.005666              0.010056        0.000853  \n",
       "2005-03         -0.018855              0.008751        0.001391  \n",
       "2005-04         -0.041645              0.012613       -0.001834  \n",
       "2005-05          0.085755              0.006330        0.002867  "
      ]
     },
     "metadata": {},
     "output_type": "display_data"
    },
    {
     "data": {
      "text/html": [
       "<div>\n",
       "<style scoped>\n",
       "    .dataframe tbody tr th:only-of-type {\n",
       "        vertical-align: middle;\n",
       "    }\n",
       "\n",
       "    .dataframe tbody tr th {\n",
       "        vertical-align: top;\n",
       "    }\n",
       "\n",
       "    .dataframe thead th {\n",
       "        text-align: right;\n",
       "    }\n",
       "</style>\n",
       "<table border=\"1\" class=\"dataframe\">\n",
       "  <thead>\n",
       "    <tr style=\"text-align: right;\">\n",
       "      <th></th>\n",
       "      <th>ETF_Open</th>\n",
       "      <th>ETF_High</th>\n",
       "      <th>ETF_Low</th>\n",
       "      <th>ETF_Close</th>\n",
       "      <th>ETF_Volume</th>\n",
       "      <th>ETF_Return</th>\n",
       "      <th>Benchmark_Return</th>\n",
       "      <th>Benchmark_Volatility</th>\n",
       "      <th>Tracking_Error</th>\n",
       "    </tr>\n",
       "    <tr>\n",
       "      <th>Date</th>\n",
       "      <th></th>\n",
       "      <th></th>\n",
       "      <th></th>\n",
       "      <th></th>\n",
       "      <th></th>\n",
       "      <th></th>\n",
       "      <th></th>\n",
       "      <th></th>\n",
       "      <th></th>\n",
       "    </tr>\n",
       "  </thead>\n",
       "  <tbody>\n",
       "    <tr>\n",
       "      <th>2024-08</th>\n",
       "      <td>469.112327</td>\n",
       "      <td>482.815036</td>\n",
       "      <td>421.073490</td>\n",
       "      <td>473.597015</td>\n",
       "      <td>908585600</td>\n",
       "      <td>0.011039</td>\n",
       "      <td>0.010960</td>\n",
       "      <td>0.016216</td>\n",
       "      <td>0.000079</td>\n",
       "    </tr>\n",
       "    <tr>\n",
       "      <th>2024-09</th>\n",
       "      <td>470.544292</td>\n",
       "      <td>491.619134</td>\n",
       "      <td>445.674590</td>\n",
       "      <td>486.012848</td>\n",
       "      <td>694796200</td>\n",
       "      <td>0.026216</td>\n",
       "      <td>0.024831</td>\n",
       "      <td>0.013263</td>\n",
       "      <td>0.001385</td>\n",
       "    </tr>\n",
       "    <tr>\n",
       "      <th>2024-10</th>\n",
       "      <td>485.644438</td>\n",
       "      <td>499.236836</td>\n",
       "      <td>475.387832</td>\n",
       "      <td>481.810638</td>\n",
       "      <td>660176300</td>\n",
       "      <td>-0.008646</td>\n",
       "      <td>-0.008488</td>\n",
       "      <td>0.010030</td>\n",
       "      <td>-0.000159</td>\n",
       "    </tr>\n",
       "    <tr>\n",
       "      <th>2024-11</th>\n",
       "      <td>483.453661</td>\n",
       "      <td>513.406942</td>\n",
       "      <td>482.208926</td>\n",
       "      <td>507.591461</td>\n",
       "      <td>567729800</td>\n",
       "      <td>0.053508</td>\n",
       "      <td>0.052284</td>\n",
       "      <td>0.010318</td>\n",
       "      <td>0.001224</td>\n",
       "    </tr>\n",
       "    <tr>\n",
       "      <th>2024-12</th>\n",
       "      <td>508.856114</td>\n",
       "      <td>536.877522</td>\n",
       "      <td>507.143406</td>\n",
       "      <td>514.264648</td>\n",
       "      <td>598293500</td>\n",
       "      <td>0.013147</td>\n",
       "      <td>0.012743</td>\n",
       "      <td>0.012896</td>\n",
       "      <td>0.000404</td>\n",
       "    </tr>\n",
       "  </tbody>\n",
       "</table>\n",
       "</div>"
      ],
      "text/plain": [
       "          ETF_Open   ETF_High    ETF_Low  ETF_Close  ETF_Volume  ETF_Return  \\\n",
       "Date                                                                          \n",
       "2024-08 469.112327 482.815036 421.073490 473.597015   908585600    0.011039   \n",
       "2024-09 470.544292 491.619134 445.674590 486.012848   694796200    0.026216   \n",
       "2024-10 485.644438 499.236836 475.387832 481.810638   660176300   -0.008646   \n",
       "2024-11 483.453661 513.406942 482.208926 507.591461   567729800    0.053508   \n",
       "2024-12 508.856114 536.877522 507.143406 514.264648   598293500    0.013147   \n",
       "\n",
       "         Benchmark_Return  Benchmark_Volatility  Tracking_Error  \n",
       "Date                                                             \n",
       "2024-08          0.010960              0.016216        0.000079  \n",
       "2024-09          0.024831              0.013263        0.001385  \n",
       "2024-10         -0.008488              0.010030       -0.000159  \n",
       "2024-11          0.052284              0.010318        0.001224  \n",
       "2024-12          0.012743              0.012896        0.000404  "
      ]
     },
     "metadata": {},
     "output_type": "display_data"
    }
   ],
   "source": [
    "# Function validation with QQQ ETF and NDX benchmark\n",
    "df_monthly_QQQ = build_monthly_te_series(\n",
    "    etf=\"QQQ\",\n",
    "    benchmark=\"^NDX\",\n",
    "    start=\"2004-12-31\",\n",
    "    end=\"2024-12-31\"\n",
    ")\n",
    "display(df_monthly_QQQ.head())\n",
    "display(df_monthly_QQQ.tail())"
   ]
  },
  {
   "cell_type": "markdown",
   "id": "77f65605",
   "metadata": {},
   "source": [
    "# ETF Static Data"
   ]
  },
  {
   "cell_type": "markdown",
   "id": "a0a20ca3",
   "metadata": {},
   "source": [
    "The data for this section was sourced using both Yahoo Finance and FinViz."
   ]
  },
  {
   "cell_type": "code",
   "execution_count": 4,
   "id": "858caaea",
   "metadata": {},
   "outputs": [],
   "source": [
    "# Use a real browser user‐agent to avoid being blocked\n",
    "_HEADERS = {\n",
    "    \"User-Agent\": (\n",
    "        \"Mozilla/5.0 (Windows NT 10.0; Win64; x64) \"\n",
    "        \"AppleWebKit/537.36 (KHTML, like Gecko) \"\n",
    "        \"Chrome/114.0.0.0 Safari/537.36\"\n",
    "    )\n",
    "}\n",
    "\n",
    "def extract_etf_features(tickers: list[str], benchmarks: list[str]) -> pd.DataFrame:\n",
    "    \"\"\"\n",
    "    Extract core static ETF features for each ticker, and attach its benchmark index:\n",
    "      1) ETF Ticker\n",
    "      2) Benchmark Index (user-supplied)\n",
    "      3) Net Assets (USD)\n",
    "      4) NAV (USD)\n",
    "      5) P/E Ratio (trailing)\n",
    "      6) Dividend Yield (%)\n",
    "      7) Beta (5Y Monthly)           – from Finviz snapshot\n",
    "      8) Expense Ratio (%)           – yfinance\n",
    "      9) Fund Family                 – yfinance\n",
    "     10) Fund Category               – yfinance\n",
    "     11) Inception Date             – yfinance\n",
    "     12) % in Top 10 Holdings       – yahooquery\n",
    "     13) Total Holdings             – from Finviz snapshot\n",
    "     14) Optionable (True/False)    – from Finviz snapshot\n",
    "     15) Shortable (True/False)     – from Finviz snapshot\n",
    "\n",
    "    Parameters\n",
    "    ----------\n",
    "    tickers : list of str\n",
    "        ETF tickers to fetch features for.\n",
    "    benchmarks : list of str\n",
    "        Corresponding benchmark index name for each ticker.\n",
    "\n",
    "    Returns\n",
    "    -------\n",
    "    pd.DataFrame\n",
    "        DataFrame with one row per ETF and columns for each feature.\n",
    "    \"\"\"\n",
    "    if len(tickers) != len(benchmarks):\n",
    "        raise ValueError(\"tickers and benchmarks must be the same length\")\n",
    "\n",
    "    rows = []\n",
    "    for t, idx in zip(tickers, benchmarks):\n",
    "        # 1–4 & 6–9 via yfinance\n",
    "        info = yf.Ticker(t).info\n",
    "        \n",
    "        net_assets     = info.get(\"netAssets\")\n",
    "        nav            = info.get(\"navPrice\")\n",
    "        pe_ratio       = info.get(\"trailingPE\")\n",
    "        \n",
    "        dy = info.get(\"dividendYield\")\n",
    "        dividend_yield = dy * 100 if dy is not None else None\n",
    "        \n",
    "        er = info.get(\"expenseRatio\") or info.get(\"netExpenseRatio\")\n",
    "        expense_ratio = er * 100 if er is not None else None\n",
    "        \n",
    "        fund_family   = info.get(\"fundFamily\")\n",
    "        fund_category = info.get(\"category\")\n",
    "        \n",
    "        inc_ts = info.get(\"fundInceptionDate\")\n",
    "        inception_date = pd.to_datetime(inc_ts, unit=\"s\") if inc_ts else None\n",
    "\n",
    "        # 10 via yahooquery\n",
    "        yq_t  = yq(t)\n",
    "        hi    = yq_t.fund_holding_info.get(t, {}) or {}\n",
    "        holds = hi.get(\"holdings\", [])\n",
    "        df_h  = pd.DataFrame(holds)\n",
    "        if not df_h.empty and \"holdingPercent\" in df_h.columns:\n",
    "            df_h[\"holdingPercent\"] = pd.to_numeric(df_h[\"holdingPercent\"], errors=\"coerce\")\n",
    "            pct_top10 = float(df_h.nlargest(10, \"holdingPercent\")[\"holdingPercent\"].sum()) / 100.0\n",
    "        else:\n",
    "            pct_top10 = None\n",
    "\n",
    "        # 5, 11–13 via Finviz\n",
    "        finviz_url = f\"https://finviz.com/quote.ashx?t={t}\"\n",
    "        html = requests.get(finviz_url, headers=_HEADERS, timeout=10).text\n",
    "        snap = pd.read_html(html, attrs={\"class\": \"snapshot-table2\"})[0]\n",
    "        flat = snap.values.flatten()\n",
    "        snap_map = {flat[i]: flat[i + 1] for i in range(0, len(flat), 2)}\n",
    "\n",
    "        beta = None\n",
    "        if \"Beta (5Y Monthly)\" in snap_map:\n",
    "            beta = float(snap_map[\"Beta (5Y Monthly)\"])\n",
    "        elif \"Beta\" in snap_map:\n",
    "            beta = float(snap_map[\"Beta\"])\n",
    "\n",
    "        total_holdings = None\n",
    "        if \"Total Holdings\" in snap_map:\n",
    "            th = snap_map[\"Total Holdings\"].replace(\",\", \"\")\n",
    "            total_holdings = int(th)\n",
    "\n",
    "        optionable = shortable = None\n",
    "        optshort = snap_map.get(\"Option/Short\", \"\")\n",
    "        if \" / \" in optshort:\n",
    "            op, sh = [x.strip() for x in optshort.split(\" / \", 1)]\n",
    "            optionable = (op == \"Yes\")\n",
    "            shortable  = (sh == \"Yes\")\n",
    "\n",
    "        rows.append({\n",
    "            \"ETF_Ticker\":            t,\n",
    "            \"Benchmark_Index\":       idx,\n",
    "            \"Net_Assets_USD\":        net_assets,\n",
    "            \"NAV_USD\":               nav,\n",
    "            \"PE_Ratio\":              pe_ratio,\n",
    "            \"Dividend_Yield_pct\":    dividend_yield,\n",
    "            \"Beta\":                  beta,\n",
    "            \"Expense_Ratio_pct\":     expense_ratio,\n",
    "            \"Fund_Family\":           fund_family,\n",
    "            \"Fund_Category\":         fund_category,\n",
    "            \"Inception_Date\":        inception_date,\n",
    "            \"Pct_in_Top10_Holdings\": pct_top10,\n",
    "            \"Total_Holdings\":        total_holdings,\n",
    "            \"Optionable\":            optionable,\n",
    "            \"Shortable\":             shortable\n",
    "        })\n",
    "\n",
    "    return pd.DataFrame(rows)\n"
   ]
  },
  {
   "cell_type": "code",
   "execution_count": 5,
   "id": "a94dc4d1",
   "metadata": {},
   "outputs": [
    {
     "name": "stderr",
     "output_type": "stream",
     "text": [
      "C:\\Users\\aatis\\AppData\\Local\\Temp\\ipykernel_26232\\200606412.py:79: FutureWarning: Passing literal html to 'read_html' is deprecated and will be removed in a future version. To read from a literal string, wrap it in a 'StringIO' object.\n",
      "  snap = pd.read_html(html, attrs={\"class\": \"snapshot-table2\"})[0]\n"
     ]
    },
    {
     "data": {
      "text/html": [
       "<div>\n",
       "<style scoped>\n",
       "    .dataframe tbody tr th:only-of-type {\n",
       "        vertical-align: middle;\n",
       "    }\n",
       "\n",
       "    .dataframe tbody tr th {\n",
       "        vertical-align: top;\n",
       "    }\n",
       "\n",
       "    .dataframe thead th {\n",
       "        text-align: right;\n",
       "    }\n",
       "</style>\n",
       "<table border=\"1\" class=\"dataframe\">\n",
       "  <thead>\n",
       "    <tr style=\"text-align: right;\">\n",
       "      <th></th>\n",
       "      <th>0</th>\n",
       "    </tr>\n",
       "  </thead>\n",
       "  <tbody>\n",
       "    <tr>\n",
       "      <th>ETF_Ticker</th>\n",
       "      <td>QQQ</td>\n",
       "    </tr>\n",
       "    <tr>\n",
       "      <th>Benchmark_Index</th>\n",
       "      <td>^NDX</td>\n",
       "    </tr>\n",
       "    <tr>\n",
       "      <th>Net_Assets_USD</th>\n",
       "      <td>333553435000.000000</td>\n",
       "    </tr>\n",
       "    <tr>\n",
       "      <th>NAV_USD</th>\n",
       "      <td>530.820000</td>\n",
       "    </tr>\n",
       "    <tr>\n",
       "      <th>PE_Ratio</th>\n",
       "      <td>32.577915</td>\n",
       "    </tr>\n",
       "    <tr>\n",
       "      <th>Dividend_Yield_pct</th>\n",
       "      <td>58.000000</td>\n",
       "    </tr>\n",
       "    <tr>\n",
       "      <th>Beta</th>\n",
       "      <td>1.180000</td>\n",
       "    </tr>\n",
       "    <tr>\n",
       "      <th>Expense_Ratio_pct</th>\n",
       "      <td>20.000000</td>\n",
       "    </tr>\n",
       "    <tr>\n",
       "      <th>Fund_Family</th>\n",
       "      <td>Invesco</td>\n",
       "    </tr>\n",
       "    <tr>\n",
       "      <th>Fund_Category</th>\n",
       "      <td>Large Growth</td>\n",
       "    </tr>\n",
       "    <tr>\n",
       "      <th>Inception_Date</th>\n",
       "      <td>1999-03-10 00:00:00</td>\n",
       "    </tr>\n",
       "    <tr>\n",
       "      <th>Pct_in_Top10_Holdings</th>\n",
       "      <td>0.005014</td>\n",
       "    </tr>\n",
       "    <tr>\n",
       "      <th>Total_Holdings</th>\n",
       "      <td>101</td>\n",
       "    </tr>\n",
       "    <tr>\n",
       "      <th>Optionable</th>\n",
       "      <td>True</td>\n",
       "    </tr>\n",
       "    <tr>\n",
       "      <th>Shortable</th>\n",
       "      <td>True</td>\n",
       "    </tr>\n",
       "  </tbody>\n",
       "</table>\n",
       "</div>"
      ],
      "text/plain": [
       "                                         0\n",
       "ETF_Ticker                             QQQ\n",
       "Benchmark_Index                       ^NDX\n",
       "Net_Assets_USD         333553435000.000000\n",
       "NAV_USD                         530.820000\n",
       "PE_Ratio                         32.577915\n",
       "Dividend_Yield_pct               58.000000\n",
       "Beta                              1.180000\n",
       "Expense_Ratio_pct                20.000000\n",
       "Fund_Family                        Invesco\n",
       "Fund_Category                 Large Growth\n",
       "Inception_Date         1999-03-10 00:00:00\n",
       "Pct_in_Top10_Holdings             0.005014\n",
       "Total_Holdings                         101\n",
       "Optionable                            True\n",
       "Shortable                             True"
      ]
     },
     "metadata": {},
     "output_type": "display_data"
    }
   ],
   "source": [
    "# Example test for QQQ\n",
    "df_static_qqq = extract_etf_features(['QQQ'], ['^NDX'])\n",
    "display(df_static_qqq.T) # Transposed for better readability"
   ]
  },
  {
   "cell_type": "markdown",
   "id": "5aa49783",
   "metadata": {},
   "source": [
    "# Macro Data"
   ]
  },
  {
   "cell_type": "markdown",
   "id": "f49d5e33",
   "metadata": {},
   "source": [
    "VIX Data was sourced from Yahoo Finance and Michigan Consumer Sentiment Index data was sourced from the FRED website."
   ]
  },
  {
   "cell_type": "code",
   "execution_count": 6,
   "id": "6e1fe235",
   "metadata": {},
   "outputs": [],
   "source": [
    "def macro_data(csv_path: str,\n",
    "                                start: str = None,\n",
    "                                end: str = None) -> pd.DataFrame:\n",
    "    \"\"\"\n",
    "    Loads University of Michigan Consumer Sentiment from a CSV and\n",
    "    VIX daily closes from yfinance, then returns a DataFrame\n",
    "    indexed by Year-Month (PeriodIndex) with columns:\n",
    "      - vix\n",
    "      - michigan_consumer_sentiment_index\n",
    "\n",
    "    Parameters\n",
    "    ----------\n",
    "    csv_path : str\n",
    "        Path to the UMCSENT.csv file (must have columns\n",
    "        'observation_date' & 'UMCSENT').\n",
    "    start : str, optional\n",
    "        yfinance start date ('YYYY-MM-DD'). Defaults to first sentiment month.\n",
    "    end : str, optional\n",
    "        yfinance end date. Defaults to today.\n",
    "    \"\"\"\n",
    "    # 1) Load & prepare monthly Michigan sentiment\n",
    "    sent = (\n",
    "        pd.read_csv(csv_path, parse_dates=['observation_date'])\n",
    "          .set_index('observation_date')\n",
    "          .sort_index()[['UMCSENT']]\n",
    "          .rename(columns={'UMCSENT': 'michigan_consumer_sentiment_index'})\n",
    "          .to_period('M')\n",
    "    )\n",
    "\n",
    "    # 2) Determine VIX download range\n",
    "    if start is None:\n",
    "        start = sent.index.min().to_timestamp().strftime('%Y-%m-%d')\n",
    "    if end is None:\n",
    "        end = pd.Timestamp.today().strftime('%Y-%m-%d')\n",
    "\n",
    "    # 3) Download VIX daily closes and ensure single-level column 'vix'\n",
    "    vix = (\n",
    "        yf.download('^VIX', start=start, end=end, progress=False)[['Close']]\n",
    "    )\n",
    "    vix.columns = ['vix']  # rename and flatten\n",
    "    vix.index = pd.to_datetime(vix.index)\n",
    "\n",
    "    # 4) Resample to month-end and convert to PeriodIndex\n",
    "    vix_m = vix.resample('M').last().to_period('M')\n",
    "\n",
    "    # 5) Merge into one monthly table\n",
    "    df = pd.concat([vix_m, sent], axis=1).dropna()\n",
    "\n",
    "    return df"
   ]
  },
  {
   "cell_type": "code",
   "execution_count": 7,
   "id": "027d8bac",
   "metadata": {},
   "outputs": [
    {
     "name": "stderr",
     "output_type": "stream",
     "text": [
      "C:\\Users\\aatis\\AppData\\Local\\Temp\\ipykernel_26232\\1807163659.py:38: FutureWarning: YF.download() has changed argument auto_adjust default to True\n",
      "  yf.download('^VIX', start=start, end=end, progress=False)[['Close']]\n",
      "C:\\Users\\aatis\\AppData\\Local\\Temp\\ipykernel_26232\\1807163659.py:44: FutureWarning: 'M' is deprecated and will be removed in a future version, please use 'ME' instead.\n",
      "  vix_m = vix.resample('M').last().to_period('M')\n"
     ]
    },
    {
     "data": {
      "text/html": [
       "<div>\n",
       "<style scoped>\n",
       "    .dataframe tbody tr th:only-of-type {\n",
       "        vertical-align: middle;\n",
       "    }\n",
       "\n",
       "    .dataframe tbody tr th {\n",
       "        vertical-align: top;\n",
       "    }\n",
       "\n",
       "    .dataframe thead th {\n",
       "        text-align: right;\n",
       "    }\n",
       "</style>\n",
       "<table border=\"1\" class=\"dataframe\">\n",
       "  <thead>\n",
       "    <tr style=\"text-align: right;\">\n",
       "      <th></th>\n",
       "      <th>vix</th>\n",
       "      <th>michigan_consumer_sentiment_index</th>\n",
       "    </tr>\n",
       "  </thead>\n",
       "  <tbody>\n",
       "    <tr>\n",
       "      <th>2005-01</th>\n",
       "      <td>12.820000</td>\n",
       "      <td>95.500000</td>\n",
       "    </tr>\n",
       "    <tr>\n",
       "      <th>2005-02</th>\n",
       "      <td>12.080000</td>\n",
       "      <td>94.100000</td>\n",
       "    </tr>\n",
       "    <tr>\n",
       "      <th>2005-03</th>\n",
       "      <td>14.020000</td>\n",
       "      <td>92.600000</td>\n",
       "    </tr>\n",
       "    <tr>\n",
       "      <th>2005-04</th>\n",
       "      <td>15.310000</td>\n",
       "      <td>87.700000</td>\n",
       "    </tr>\n",
       "    <tr>\n",
       "      <th>2005-05</th>\n",
       "      <td>13.290000</td>\n",
       "      <td>86.900000</td>\n",
       "    </tr>\n",
       "  </tbody>\n",
       "</table>\n",
       "</div>"
      ],
      "text/plain": [
       "              vix  michigan_consumer_sentiment_index\n",
       "2005-01 12.820000                          95.500000\n",
       "2005-02 12.080000                          94.100000\n",
       "2005-03 14.020000                          92.600000\n",
       "2005-04 15.310000                          87.700000\n",
       "2005-05 13.290000                          86.900000"
      ]
     },
     "metadata": {},
     "output_type": "display_data"
    }
   ],
   "source": [
    "# Output for Michigan Consumer Sentiment and VIX\n",
    "macro_df = macro_data(\n",
    "    csv_path='UMCSENT.csv',\n",
    "    start='2005-01-01',\n",
    "    end='2024-12-31'\n",
    ")\n",
    "display(macro_df.head())\n",
    "\n",
    "# Save the macro data to an Excel file\n",
    "macro_df.to_excel('macro_data.xlsx')"
   ]
  },
  {
   "cell_type": "markdown",
   "id": "a190dfce",
   "metadata": {},
   "source": [
    "# ETF Data Output"
   ]
  },
  {
   "cell_type": "markdown",
   "id": "98edafa9",
   "metadata": {},
   "source": [
    "### Single ETF Test"
   ]
  },
  {
   "cell_type": "code",
   "execution_count": 8,
   "id": "14d67dd1",
   "metadata": {},
   "outputs": [
    {
     "name": "stderr",
     "output_type": "stream",
     "text": [
      "C:\\Users\\aatis\\AppData\\Local\\Temp\\ipykernel_26232\\200606412.py:79: FutureWarning: Passing literal html to 'read_html' is deprecated and will be removed in a future version. To read from a literal string, wrap it in a 'StringIO' object.\n",
      "  snap = pd.read_html(html, attrs={\"class\": \"snapshot-table2\"})[0]\n"
     ]
    },
    {
     "data": {
      "text/html": [
       "<div>\n",
       "<style scoped>\n",
       "    .dataframe tbody tr th:only-of-type {\n",
       "        vertical-align: middle;\n",
       "    }\n",
       "\n",
       "    .dataframe tbody tr th {\n",
       "        vertical-align: top;\n",
       "    }\n",
       "\n",
       "    .dataframe thead th {\n",
       "        text-align: right;\n",
       "    }\n",
       "</style>\n",
       "<table border=\"1\" class=\"dataframe\">\n",
       "  <thead>\n",
       "    <tr style=\"text-align: right;\">\n",
       "      <th></th>\n",
       "      <th>ETF_Ticker</th>\n",
       "      <th>ETF_Open</th>\n",
       "      <th>ETF_High</th>\n",
       "      <th>ETF_Low</th>\n",
       "      <th>ETF_Close</th>\n",
       "      <th>ETF_Volume</th>\n",
       "      <th>ETF_Return</th>\n",
       "      <th>Benchmark_Return</th>\n",
       "      <th>Benchmark_Volatility</th>\n",
       "      <th>Tracking_Error</th>\n",
       "      <th>...</th>\n",
       "      <th>Dividend_Yield_pct</th>\n",
       "      <th>Beta</th>\n",
       "      <th>Expense_Ratio_pct</th>\n",
       "      <th>Fund_Family</th>\n",
       "      <th>Fund_Category</th>\n",
       "      <th>Inception_Date</th>\n",
       "      <th>Pct_in_Top10_Holdings</th>\n",
       "      <th>Total_Holdings</th>\n",
       "      <th>Optionable</th>\n",
       "      <th>Shortable</th>\n",
       "    </tr>\n",
       "    <tr>\n",
       "      <th>Date</th>\n",
       "      <th></th>\n",
       "      <th></th>\n",
       "      <th></th>\n",
       "      <th></th>\n",
       "      <th></th>\n",
       "      <th></th>\n",
       "      <th></th>\n",
       "      <th></th>\n",
       "      <th></th>\n",
       "      <th></th>\n",
       "      <th></th>\n",
       "      <th></th>\n",
       "      <th></th>\n",
       "      <th></th>\n",
       "      <th></th>\n",
       "      <th></th>\n",
       "      <th></th>\n",
       "      <th></th>\n",
       "      <th></th>\n",
       "      <th></th>\n",
       "      <th></th>\n",
       "    </tr>\n",
       "  </thead>\n",
       "  <tbody>\n",
       "    <tr>\n",
       "      <th>2005-01</th>\n",
       "      <td>QQQ</td>\n",
       "      <td>34.282459</td>\n",
       "      <td>34.453487</td>\n",
       "      <td>31.178304</td>\n",
       "      <td>31.982122</td>\n",
       "      <td>2234773200</td>\n",
       "      <td>-0.063126</td>\n",
       "      <td>-0.062605</td>\n",
       "      <td>0.010865</td>\n",
       "      <td>-0.000521</td>\n",
       "      <td>...</td>\n",
       "      <td>58.000000</td>\n",
       "      <td>1.180000</td>\n",
       "      <td>20.000000</td>\n",
       "      <td>Invesco</td>\n",
       "      <td>Large Growth</td>\n",
       "      <td>1999-03-10</td>\n",
       "      <td>0.005014</td>\n",
       "      <td>101</td>\n",
       "      <td>True</td>\n",
       "      <td>True</td>\n",
       "    </tr>\n",
       "    <tr>\n",
       "      <th>2005-02</th>\n",
       "      <td>QQQ</td>\n",
       "      <td>32.059087</td>\n",
       "      <td>32.905655</td>\n",
       "      <td>31.383518</td>\n",
       "      <td>31.828196</td>\n",
       "      <td>1765610600</td>\n",
       "      <td>-0.004813</td>\n",
       "      <td>-0.005666</td>\n",
       "      <td>0.010056</td>\n",
       "      <td>0.000853</td>\n",
       "      <td>...</td>\n",
       "      <td>58.000000</td>\n",
       "      <td>1.180000</td>\n",
       "      <td>20.000000</td>\n",
       "      <td>Invesco</td>\n",
       "      <td>Large Growth</td>\n",
       "      <td>1999-03-10</td>\n",
       "      <td>0.005014</td>\n",
       "      <td>101</td>\n",
       "      <td>True</td>\n",
       "      <td>True</td>\n",
       "    </tr>\n",
       "    <tr>\n",
       "      <th>2005-03</th>\n",
       "      <td>QQQ</td>\n",
       "      <td>31.956457</td>\n",
       "      <td>32.743198</td>\n",
       "      <td>30.733607</td>\n",
       "      <td>31.272354</td>\n",
       "      <td>2133973700</td>\n",
       "      <td>-0.017464</td>\n",
       "      <td>-0.018855</td>\n",
       "      <td>0.008751</td>\n",
       "      <td>0.001391</td>\n",
       "      <td>...</td>\n",
       "      <td>58.000000</td>\n",
       "      <td>1.180000</td>\n",
       "      <td>20.000000</td>\n",
       "      <td>Invesco</td>\n",
       "      <td>Large Growth</td>\n",
       "      <td>1999-03-10</td>\n",
       "      <td>0.005014</td>\n",
       "      <td>101</td>\n",
       "      <td>True</td>\n",
       "      <td>True</td>\n",
       "    </tr>\n",
       "    <tr>\n",
       "      <th>2005-04</th>\n",
       "      <td>QQQ</td>\n",
       "      <td>31.486138</td>\n",
       "      <td>31.699916</td>\n",
       "      <td>29.373945</td>\n",
       "      <td>29.912682</td>\n",
       "      <td>2345433600</td>\n",
       "      <td>-0.043478</td>\n",
       "      <td>-0.041645</td>\n",
       "      <td>0.012613</td>\n",
       "      <td>-0.001833</td>\n",
       "      <td>...</td>\n",
       "      <td>58.000000</td>\n",
       "      <td>1.180000</td>\n",
       "      <td>20.000000</td>\n",
       "      <td>Invesco</td>\n",
       "      <td>Large Growth</td>\n",
       "      <td>1999-03-10</td>\n",
       "      <td>0.005014</td>\n",
       "      <td>101</td>\n",
       "      <td>True</td>\n",
       "      <td>True</td>\n",
       "    </tr>\n",
       "    <tr>\n",
       "      <th>2005-05</th>\n",
       "      <td>QQQ</td>\n",
       "      <td>30.015303</td>\n",
       "      <td>32.726089</td>\n",
       "      <td>29.835725</td>\n",
       "      <td>32.563595</td>\n",
       "      <td>1881340000</td>\n",
       "      <td>0.088622</td>\n",
       "      <td>0.085755</td>\n",
       "      <td>0.006330</td>\n",
       "      <td>0.002867</td>\n",
       "      <td>...</td>\n",
       "      <td>58.000000</td>\n",
       "      <td>1.180000</td>\n",
       "      <td>20.000000</td>\n",
       "      <td>Invesco</td>\n",
       "      <td>Large Growth</td>\n",
       "      <td>1999-03-10</td>\n",
       "      <td>0.005014</td>\n",
       "      <td>101</td>\n",
       "      <td>True</td>\n",
       "      <td>True</td>\n",
       "    </tr>\n",
       "  </tbody>\n",
       "</table>\n",
       "<p>5 rows × 24 columns</p>\n",
       "</div>"
      ],
      "text/plain": [
       "        ETF_Ticker  ETF_Open  ETF_High   ETF_Low  ETF_Close  ETF_Volume  \\\n",
       "Date                                                                      \n",
       "2005-01        QQQ 34.282459 34.453487 31.178304  31.982122  2234773200   \n",
       "2005-02        QQQ 32.059087 32.905655 31.383518  31.828196  1765610600   \n",
       "2005-03        QQQ 31.956457 32.743198 30.733607  31.272354  2133973700   \n",
       "2005-04        QQQ 31.486138 31.699916 29.373945  29.912682  2345433600   \n",
       "2005-05        QQQ 30.015303 32.726089 29.835725  32.563595  1881340000   \n",
       "\n",
       "         ETF_Return  Benchmark_Return  Benchmark_Volatility  Tracking_Error  \\\n",
       "Date                                                                          \n",
       "2005-01   -0.063126         -0.062605              0.010865       -0.000521   \n",
       "2005-02   -0.004813         -0.005666              0.010056        0.000853   \n",
       "2005-03   -0.017464         -0.018855              0.008751        0.001391   \n",
       "2005-04   -0.043478         -0.041645              0.012613       -0.001833   \n",
       "2005-05    0.088622          0.085755              0.006330        0.002867   \n",
       "\n",
       "         ... Dividend_Yield_pct     Beta  Expense_Ratio_pct  Fund_Family  \\\n",
       "Date     ...                                                               \n",
       "2005-01  ...          58.000000 1.180000          20.000000      Invesco   \n",
       "2005-02  ...          58.000000 1.180000          20.000000      Invesco   \n",
       "2005-03  ...          58.000000 1.180000          20.000000      Invesco   \n",
       "2005-04  ...          58.000000 1.180000          20.000000      Invesco   \n",
       "2005-05  ...          58.000000 1.180000          20.000000      Invesco   \n",
       "\n",
       "         Fund_Category  Inception_Date  Pct_in_Top10_Holdings Total_Holdings  \\\n",
       "Date                                                                           \n",
       "2005-01   Large Growth      1999-03-10               0.005014            101   \n",
       "2005-02   Large Growth      1999-03-10               0.005014            101   \n",
       "2005-03   Large Growth      1999-03-10               0.005014            101   \n",
       "2005-04   Large Growth      1999-03-10               0.005014            101   \n",
       "2005-05   Large Growth      1999-03-10               0.005014            101   \n",
       "\n",
       "        Optionable Shortable  \n",
       "Date                          \n",
       "2005-01       True      True  \n",
       "2005-02       True      True  \n",
       "2005-03       True      True  \n",
       "2005-04       True      True  \n",
       "2005-05       True      True  \n",
       "\n",
       "[5 rows x 24 columns]"
      ]
     },
     "metadata": {},
     "output_type": "display_data"
    },
    {
     "name": "stdout",
     "output_type": "stream",
     "text": [
      "Saved combined dataset to qqq_data.xlsx\n"
     ]
    }
   ],
   "source": [
    "# Use one month earlier to include Jan 2005\n",
    "qqq_ts = build_monthly_te_series(\"QQQ\", \"^NDX\", \"2004-12-01\", \"2024-12-31\")\n",
    "qqq_static = extract_etf_features([\"QQQ\"], [\"^NDX\"]).iloc[0]\n",
    "\n",
    "# Repeat static row across all dates\n",
    "qqq_static_df = pd.DataFrame([qqq_static.to_dict()]*len(qqq_ts), index=qqq_ts.index)\n",
    "\n",
    "# Combine\n",
    "qqq_df_combined = pd.concat([qqq_ts, qqq_static_df], axis=1)\n",
    "\n",
    "# Reorder so 'ETF_Ticker' is first\n",
    "cols = ['ETF_Ticker'] + [c for c in qqq_df_combined.columns if c != 'ETF_Ticker']\n",
    "qqq_df_combined = qqq_df_combined[cols]\n",
    "\n",
    "# Display combined DataFrame\n",
    "display(qqq_df_combined.head())\n",
    "\n",
    "# Save to Excel\n",
    "output_file = \"qqq_data.xlsx\"\n",
    "qqq_df_combined.to_excel(output_file)\n",
    "print(f\"Saved combined dataset to {output_file}\")"
   ]
  },
  {
   "cell_type": "markdown",
   "id": "f5fbd410",
   "metadata": {},
   "source": [
    "### All ETFs Data"
   ]
  },
  {
   "cell_type": "code",
   "execution_count": 9,
   "id": "6236f4b3",
   "metadata": {},
   "outputs": [
    {
     "name": "stdout",
     "output_type": "stream",
     "text": [
      "Processing 1/35: SPY ~ ^GSPC\n"
     ]
    },
    {
     "name": "stderr",
     "output_type": "stream",
     "text": [
      "C:\\Users\\aatis\\AppData\\Local\\Temp\\ipykernel_26232\\200606412.py:79: FutureWarning: Passing literal html to 'read_html' is deprecated and will be removed in a future version. To read from a literal string, wrap it in a 'StringIO' object.\n",
      "  snap = pd.read_html(html, attrs={\"class\": \"snapshot-table2\"})[0]\n"
     ]
    },
    {
     "name": "stdout",
     "output_type": "stream",
     "text": [
      "Processing 2/35: DIA ~ ^DJI\n"
     ]
    },
    {
     "name": "stderr",
     "output_type": "stream",
     "text": [
      "C:\\Users\\aatis\\AppData\\Local\\Temp\\ipykernel_26232\\200606412.py:79: FutureWarning: Passing literal html to 'read_html' is deprecated and will be removed in a future version. To read from a literal string, wrap it in a 'StringIO' object.\n",
      "  snap = pd.read_html(html, attrs={\"class\": \"snapshot-table2\"})[0]\n"
     ]
    },
    {
     "name": "stdout",
     "output_type": "stream",
     "text": [
      "Processing 3/35: QQQ ~ ^NDX\n"
     ]
    },
    {
     "name": "stderr",
     "output_type": "stream",
     "text": [
      "C:\\Users\\aatis\\AppData\\Local\\Temp\\ipykernel_26232\\200606412.py:79: FutureWarning: Passing literal html to 'read_html' is deprecated and will be removed in a future version. To read from a literal string, wrap it in a 'StringIO' object.\n",
      "  snap = pd.read_html(html, attrs={\"class\": \"snapshot-table2\"})[0]\n"
     ]
    },
    {
     "name": "stdout",
     "output_type": "stream",
     "text": [
      "Processing 4/35: MDY ~ ^SP400\n"
     ]
    },
    {
     "name": "stderr",
     "output_type": "stream",
     "text": [
      "C:\\Users\\aatis\\AppData\\Local\\Temp\\ipykernel_26232\\200606412.py:79: FutureWarning: Passing literal html to 'read_html' is deprecated and will be removed in a future version. To read from a literal string, wrap it in a 'StringIO' object.\n",
      "  snap = pd.read_html(html, attrs={\"class\": \"snapshot-table2\"})[0]\n"
     ]
    },
    {
     "name": "stdout",
     "output_type": "stream",
     "text": [
      "Processing 5/35: RSP ~ ^SPXEW\n"
     ]
    },
    {
     "name": "stderr",
     "output_type": "stream",
     "text": [
      "C:\\Users\\aatis\\AppData\\Local\\Temp\\ipykernel_26232\\200606412.py:79: FutureWarning: Passing literal html to 'read_html' is deprecated and will be removed in a future version. To read from a literal string, wrap it in a 'StringIO' object.\n",
      "  snap = pd.read_html(html, attrs={\"class\": \"snapshot-table2\"})[0]\n"
     ]
    },
    {
     "name": "stdout",
     "output_type": "stream",
     "text": [
      "Processing 6/35: IVV ~ ^GSPC\n"
     ]
    },
    {
     "name": "stderr",
     "output_type": "stream",
     "text": [
      "C:\\Users\\aatis\\AppData\\Local\\Temp\\ipykernel_26232\\200606412.py:79: FutureWarning: Passing literal html to 'read_html' is deprecated and will be removed in a future version. To read from a literal string, wrap it in a 'StringIO' object.\n",
      "  snap = pd.read_html(html, attrs={\"class\": \"snapshot-table2\"})[0]\n"
     ]
    },
    {
     "name": "stdout",
     "output_type": "stream",
     "text": [
      "Processing 7/35: IJR ~ ^SP600\n"
     ]
    },
    {
     "name": "stderr",
     "output_type": "stream",
     "text": [
      "C:\\Users\\aatis\\AppData\\Local\\Temp\\ipykernel_26232\\200606412.py:79: FutureWarning: Passing literal html to 'read_html' is deprecated and will be removed in a future version. To read from a literal string, wrap it in a 'StringIO' object.\n",
      "  snap = pd.read_html(html, attrs={\"class\": \"snapshot-table2\"})[0]\n"
     ]
    },
    {
     "name": "stdout",
     "output_type": "stream",
     "text": [
      "Processing 8/35: IJH ~ ^SP400\n"
     ]
    },
    {
     "name": "stderr",
     "output_type": "stream",
     "text": [
      "C:\\Users\\aatis\\AppData\\Local\\Temp\\ipykernel_26232\\200606412.py:79: FutureWarning: Passing literal html to 'read_html' is deprecated and will be removed in a future version. To read from a literal string, wrap it in a 'StringIO' object.\n",
      "  snap = pd.read_html(html, attrs={\"class\": \"snapshot-table2\"})[0]\n"
     ]
    },
    {
     "name": "stdout",
     "output_type": "stream",
     "text": [
      "Processing 9/35: IWM ~ ^RUT\n"
     ]
    },
    {
     "name": "stderr",
     "output_type": "stream",
     "text": [
      "C:\\Users\\aatis\\AppData\\Local\\Temp\\ipykernel_26232\\200606412.py:79: FutureWarning: Passing literal html to 'read_html' is deprecated and will be removed in a future version. To read from a literal string, wrap it in a 'StringIO' object.\n",
      "  snap = pd.read_html(html, attrs={\"class\": \"snapshot-table2\"})[0]\n"
     ]
    },
    {
     "name": "stdout",
     "output_type": "stream",
     "text": [
      "Processing 10/35: IWB ~ ^RUI\n"
     ]
    },
    {
     "name": "stderr",
     "output_type": "stream",
     "text": [
      "C:\\Users\\aatis\\AppData\\Local\\Temp\\ipykernel_26232\\200606412.py:79: FutureWarning: Passing literal html to 'read_html' is deprecated and will be removed in a future version. To read from a literal string, wrap it in a 'StringIO' object.\n",
      "  snap = pd.read_html(html, attrs={\"class\": \"snapshot-table2\"})[0]\n"
     ]
    },
    {
     "name": "stdout",
     "output_type": "stream",
     "text": [
      "Processing 11/35: IWV ~ ^RUA\n"
     ]
    },
    {
     "name": "stderr",
     "output_type": "stream",
     "text": [
      "C:\\Users\\aatis\\AppData\\Local\\Temp\\ipykernel_26232\\200606412.py:79: FutureWarning: Passing literal html to 'read_html' is deprecated and will be removed in a future version. To read from a literal string, wrap it in a 'StringIO' object.\n",
      "  snap = pd.read_html(html, attrs={\"class\": \"snapshot-table2\"})[0]\n"
     ]
    },
    {
     "name": "stdout",
     "output_type": "stream",
     "text": [
      "Processing 12/35: IWF ~ ^RLG\n"
     ]
    },
    {
     "name": "stderr",
     "output_type": "stream",
     "text": [
      "C:\\Users\\aatis\\AppData\\Local\\Temp\\ipykernel_26232\\200606412.py:79: FutureWarning: Passing literal html to 'read_html' is deprecated and will be removed in a future version. To read from a literal string, wrap it in a 'StringIO' object.\n",
      "  snap = pd.read_html(html, attrs={\"class\": \"snapshot-table2\"})[0]\n"
     ]
    },
    {
     "name": "stdout",
     "output_type": "stream",
     "text": [
      "Processing 13/35: IWD ~ ^RLV\n"
     ]
    },
    {
     "name": "stderr",
     "output_type": "stream",
     "text": [
      "C:\\Users\\aatis\\AppData\\Local\\Temp\\ipykernel_26232\\200606412.py:79: FutureWarning: Passing literal html to 'read_html' is deprecated and will be removed in a future version. To read from a literal string, wrap it in a 'StringIO' object.\n",
      "  snap = pd.read_html(html, attrs={\"class\": \"snapshot-table2\"})[0]\n"
     ]
    },
    {
     "name": "stdout",
     "output_type": "stream",
     "text": [
      "Processing 14/35: IWO ~ ^RUO\n"
     ]
    },
    {
     "name": "stderr",
     "output_type": "stream",
     "text": [
      "C:\\Users\\aatis\\AppData\\Local\\Temp\\ipykernel_26232\\200606412.py:79: FutureWarning: Passing literal html to 'read_html' is deprecated and will be removed in a future version. To read from a literal string, wrap it in a 'StringIO' object.\n",
      "  snap = pd.read_html(html, attrs={\"class\": \"snapshot-table2\"})[0]\n"
     ]
    },
    {
     "name": "stdout",
     "output_type": "stream",
     "text": [
      "Processing 15/35: IWN ~ ^RUJ\n"
     ]
    },
    {
     "name": "stderr",
     "output_type": "stream",
     "text": [
      "C:\\Users\\aatis\\AppData\\Local\\Temp\\ipykernel_26232\\200606412.py:79: FutureWarning: Passing literal html to 'read_html' is deprecated and will be removed in a future version. To read from a literal string, wrap it in a 'StringIO' object.\n",
      "  snap = pd.read_html(html, attrs={\"class\": \"snapshot-table2\"})[0]\n"
     ]
    },
    {
     "name": "stdout",
     "output_type": "stream",
     "text": [
      "Processing 16/35: VTI ~ ^W5000\n"
     ]
    },
    {
     "name": "stderr",
     "output_type": "stream",
     "text": [
      "C:\\Users\\aatis\\AppData\\Local\\Temp\\ipykernel_26232\\200606412.py:79: FutureWarning: Passing literal html to 'read_html' is deprecated and will be removed in a future version. To read from a literal string, wrap it in a 'StringIO' object.\n",
      "  snap = pd.read_html(html, attrs={\"class\": \"snapshot-table2\"})[0]\n"
     ]
    },
    {
     "name": "stdout",
     "output_type": "stream",
     "text": [
      "Processing 17/35: ONEQ ~ ^IXIC\n"
     ]
    },
    {
     "name": "stderr",
     "output_type": "stream",
     "text": [
      "C:\\Users\\aatis\\AppData\\Local\\Temp\\ipykernel_26232\\200606412.py:79: FutureWarning: Passing literal html to 'read_html' is deprecated and will be removed in a future version. To read from a literal string, wrap it in a 'StringIO' object.\n",
      "  snap = pd.read_html(html, attrs={\"class\": \"snapshot-table2\"})[0]\n"
     ]
    },
    {
     "name": "stdout",
     "output_type": "stream",
     "text": [
      "Processing 18/35: IBB ~ ^NBI\n"
     ]
    },
    {
     "name": "stderr",
     "output_type": "stream",
     "text": [
      "C:\\Users\\aatis\\AppData\\Local\\Temp\\ipykernel_26232\\200606412.py:79: FutureWarning: Passing literal html to 'read_html' is deprecated and will be removed in a future version. To read from a literal string, wrap it in a 'StringIO' object.\n",
      "  snap = pd.read_html(html, attrs={\"class\": \"snapshot-table2\"})[0]\n"
     ]
    },
    {
     "name": "stdout",
     "output_type": "stream",
     "text": [
      "Processing 19/35: IDU ~ ^DJU\n"
     ]
    },
    {
     "name": "stderr",
     "output_type": "stream",
     "text": [
      "C:\\Users\\aatis\\AppData\\Local\\Temp\\ipykernel_26232\\200606412.py:79: FutureWarning: Passing literal html to 'read_html' is deprecated and will be removed in a future version. To read from a literal string, wrap it in a 'StringIO' object.\n",
      "  snap = pd.read_html(html, attrs={\"class\": \"snapshot-table2\"})[0]\n"
     ]
    },
    {
     "name": "stdout",
     "output_type": "stream",
     "text": [
      "Processing 20/35: IYT ~ ^DJT\n"
     ]
    },
    {
     "name": "stderr",
     "output_type": "stream",
     "text": [
      "C:\\Users\\aatis\\AppData\\Local\\Temp\\ipykernel_26232\\200606412.py:79: FutureWarning: Passing literal html to 'read_html' is deprecated and will be removed in a future version. To read from a literal string, wrap it in a 'StringIO' object.\n",
      "  snap = pd.read_html(html, attrs={\"class\": \"snapshot-table2\"})[0]\n"
     ]
    },
    {
     "name": "stdout",
     "output_type": "stream",
     "text": [
      "Processing 21/35: XLB ~ ^SP500-15\n"
     ]
    },
    {
     "name": "stderr",
     "output_type": "stream",
     "text": [
      "C:\\Users\\aatis\\AppData\\Local\\Temp\\ipykernel_26232\\200606412.py:79: FutureWarning: Passing literal html to 'read_html' is deprecated and will be removed in a future version. To read from a literal string, wrap it in a 'StringIO' object.\n",
      "  snap = pd.read_html(html, attrs={\"class\": \"snapshot-table2\"})[0]\n"
     ]
    },
    {
     "name": "stdout",
     "output_type": "stream",
     "text": [
      "Processing 22/35: XLI ~ ^SP500-20\n"
     ]
    },
    {
     "name": "stderr",
     "output_type": "stream",
     "text": [
      "C:\\Users\\aatis\\AppData\\Local\\Temp\\ipykernel_26232\\200606412.py:79: FutureWarning: Passing literal html to 'read_html' is deprecated and will be removed in a future version. To read from a literal string, wrap it in a 'StringIO' object.\n",
      "  snap = pd.read_html(html, attrs={\"class\": \"snapshot-table2\"})[0]\n"
     ]
    },
    {
     "name": "stdout",
     "output_type": "stream",
     "text": [
      "Processing 23/35: XLY ~ ^SP500-25\n"
     ]
    },
    {
     "name": "stderr",
     "output_type": "stream",
     "text": [
      "C:\\Users\\aatis\\AppData\\Local\\Temp\\ipykernel_26232\\200606412.py:79: FutureWarning: Passing literal html to 'read_html' is deprecated and will be removed in a future version. To read from a literal string, wrap it in a 'StringIO' object.\n",
      "  snap = pd.read_html(html, attrs={\"class\": \"snapshot-table2\"})[0]\n"
     ]
    },
    {
     "name": "stdout",
     "output_type": "stream",
     "text": [
      "Processing 24/35: XLP ~ ^SP500-30\n"
     ]
    },
    {
     "name": "stderr",
     "output_type": "stream",
     "text": [
      "C:\\Users\\aatis\\AppData\\Local\\Temp\\ipykernel_26232\\200606412.py:79: FutureWarning: Passing literal html to 'read_html' is deprecated and will be removed in a future version. To read from a literal string, wrap it in a 'StringIO' object.\n",
      "  snap = pd.read_html(html, attrs={\"class\": \"snapshot-table2\"})[0]\n"
     ]
    },
    {
     "name": "stdout",
     "output_type": "stream",
     "text": [
      "Processing 25/35: XLV ~ ^SP500-35\n"
     ]
    },
    {
     "name": "stderr",
     "output_type": "stream",
     "text": [
      "C:\\Users\\aatis\\AppData\\Local\\Temp\\ipykernel_26232\\200606412.py:79: FutureWarning: Passing literal html to 'read_html' is deprecated and will be removed in a future version. To read from a literal string, wrap it in a 'StringIO' object.\n",
      "  snap = pd.read_html(html, attrs={\"class\": \"snapshot-table2\"})[0]\n"
     ]
    },
    {
     "name": "stdout",
     "output_type": "stream",
     "text": [
      "Processing 26/35: XLF ~ ^SP500-40\n"
     ]
    },
    {
     "name": "stderr",
     "output_type": "stream",
     "text": [
      "C:\\Users\\aatis\\AppData\\Local\\Temp\\ipykernel_26232\\200606412.py:79: FutureWarning: Passing literal html to 'read_html' is deprecated and will be removed in a future version. To read from a literal string, wrap it in a 'StringIO' object.\n",
      "  snap = pd.read_html(html, attrs={\"class\": \"snapshot-table2\"})[0]\n"
     ]
    },
    {
     "name": "stdout",
     "output_type": "stream",
     "text": [
      "Processing 27/35: XLK ~ ^SP500-45\n"
     ]
    },
    {
     "name": "stderr",
     "output_type": "stream",
     "text": [
      "C:\\Users\\aatis\\AppData\\Local\\Temp\\ipykernel_26232\\200606412.py:79: FutureWarning: Passing literal html to 'read_html' is deprecated and will be removed in a future version. To read from a literal string, wrap it in a 'StringIO' object.\n",
      "  snap = pd.read_html(html, attrs={\"class\": \"snapshot-table2\"})[0]\n"
     ]
    },
    {
     "name": "stdout",
     "output_type": "stream",
     "text": [
      "Processing 28/35: XLU ~ ^SP500-55\n"
     ]
    },
    {
     "name": "stderr",
     "output_type": "stream",
     "text": [
      "C:\\Users\\aatis\\AppData\\Local\\Temp\\ipykernel_26232\\200606412.py:79: FutureWarning: Passing literal html to 'read_html' is deprecated and will be removed in a future version. To read from a literal string, wrap it in a 'StringIO' object.\n",
      "  snap = pd.read_html(html, attrs={\"class\": \"snapshot-table2\"})[0]\n"
     ]
    },
    {
     "name": "stdout",
     "output_type": "stream",
     "text": [
      "Processing 29/35: XLE ~ ^GSPE\n"
     ]
    },
    {
     "name": "stderr",
     "output_type": "stream",
     "text": [
      "C:\\Users\\aatis\\AppData\\Local\\Temp\\ipykernel_26232\\200606412.py:79: FutureWarning: Passing literal html to 'read_html' is deprecated and will be removed in a future version. To read from a literal string, wrap it in a 'StringIO' object.\n",
      "  snap = pd.read_html(html, attrs={\"class\": \"snapshot-table2\"})[0]\n"
     ]
    },
    {
     "name": "stdout",
     "output_type": "stream",
     "text": [
      "Processing 30/35: SMH ~ ^SOX\n"
     ]
    },
    {
     "name": "stderr",
     "output_type": "stream",
     "text": [
      "C:\\Users\\aatis\\AppData\\Local\\Temp\\ipykernel_26232\\200606412.py:79: FutureWarning: Passing literal html to 'read_html' is deprecated and will be removed in a future version. To read from a literal string, wrap it in a 'StringIO' object.\n",
      "  snap = pd.read_html(html, attrs={\"class\": \"snapshot-table2\"})[0]\n"
     ]
    },
    {
     "name": "stdout",
     "output_type": "stream",
     "text": [
      "Processing 31/35: SOXX ~ ^SOX\n"
     ]
    },
    {
     "name": "stderr",
     "output_type": "stream",
     "text": [
      "C:\\Users\\aatis\\AppData\\Local\\Temp\\ipykernel_26232\\200606412.py:79: FutureWarning: Passing literal html to 'read_html' is deprecated and will be removed in a future version. To read from a literal string, wrap it in a 'StringIO' object.\n",
      "  snap = pd.read_html(html, attrs={\"class\": \"snapshot-table2\"})[0]\n"
     ]
    },
    {
     "name": "stdout",
     "output_type": "stream",
     "text": [
      "Processing 32/35: OIH ~ ^OSX\n"
     ]
    },
    {
     "name": "stderr",
     "output_type": "stream",
     "text": [
      "C:\\Users\\aatis\\AppData\\Local\\Temp\\ipykernel_26232\\200606412.py:79: FutureWarning: Passing literal html to 'read_html' is deprecated and will be removed in a future version. To read from a literal string, wrap it in a 'StringIO' object.\n",
      "  snap = pd.read_html(html, attrs={\"class\": \"snapshot-table2\"})[0]\n"
     ]
    },
    {
     "name": "stdout",
     "output_type": "stream",
     "text": [
      "Processing 33/35: OEF ~ ^OEX\n"
     ]
    },
    {
     "name": "stderr",
     "output_type": "stream",
     "text": [
      "C:\\Users\\aatis\\AppData\\Local\\Temp\\ipykernel_26232\\200606412.py:79: FutureWarning: Passing literal html to 'read_html' is deprecated and will be removed in a future version. To read from a literal string, wrap it in a 'StringIO' object.\n",
      "  snap = pd.read_html(html, attrs={\"class\": \"snapshot-table2\"})[0]\n"
     ]
    },
    {
     "name": "stdout",
     "output_type": "stream",
     "text": [
      "Processing 34/35: IYY ~ ^DJUS\n"
     ]
    },
    {
     "name": "stderr",
     "output_type": "stream",
     "text": [
      "C:\\Users\\aatis\\AppData\\Local\\Temp\\ipykernel_26232\\200606412.py:79: FutureWarning: Passing literal html to 'read_html' is deprecated and will be removed in a future version. To read from a literal string, wrap it in a 'StringIO' object.\n",
      "  snap = pd.read_html(html, attrs={\"class\": \"snapshot-table2\"})[0]\n"
     ]
    },
    {
     "name": "stdout",
     "output_type": "stream",
     "text": [
      "Processing 35/35: IYG ~ ^BKX\n"
     ]
    },
    {
     "name": "stderr",
     "output_type": "stream",
     "text": [
      "C:\\Users\\aatis\\AppData\\Local\\Temp\\ipykernel_26232\\200606412.py:79: FutureWarning: Passing literal html to 'read_html' is deprecated and will be removed in a future version. To read from a literal string, wrap it in a 'StringIO' object.\n",
      "  snap = pd.read_html(html, attrs={\"class\": \"snapshot-table2\"})[0]\n"
     ]
    },
    {
     "data": {
      "text/html": [
       "<div>\n",
       "<style scoped>\n",
       "    .dataframe tbody tr th:only-of-type {\n",
       "        vertical-align: middle;\n",
       "    }\n",
       "\n",
       "    .dataframe tbody tr th {\n",
       "        vertical-align: top;\n",
       "    }\n",
       "\n",
       "    .dataframe thead th {\n",
       "        text-align: right;\n",
       "    }\n",
       "</style>\n",
       "<table border=\"1\" class=\"dataframe\">\n",
       "  <thead>\n",
       "    <tr style=\"text-align: right;\">\n",
       "      <th></th>\n",
       "      <th>ETF_Ticker</th>\n",
       "      <th>ETF_Open</th>\n",
       "      <th>ETF_High</th>\n",
       "      <th>ETF_Low</th>\n",
       "      <th>ETF_Close</th>\n",
       "      <th>ETF_Volume</th>\n",
       "      <th>ETF_Return</th>\n",
       "      <th>Benchmark_Return</th>\n",
       "      <th>Benchmark_Volatility</th>\n",
       "      <th>Tracking_Error</th>\n",
       "      <th>...</th>\n",
       "      <th>Dividend_Yield_pct</th>\n",
       "      <th>Beta</th>\n",
       "      <th>Expense_Ratio_pct</th>\n",
       "      <th>Fund_Family</th>\n",
       "      <th>Fund_Category</th>\n",
       "      <th>Inception_Date</th>\n",
       "      <th>Pct_in_Top10_Holdings</th>\n",
       "      <th>Total_Holdings</th>\n",
       "      <th>Optionable</th>\n",
       "      <th>Shortable</th>\n",
       "    </tr>\n",
       "    <tr>\n",
       "      <th>Date</th>\n",
       "      <th></th>\n",
       "      <th></th>\n",
       "      <th></th>\n",
       "      <th></th>\n",
       "      <th></th>\n",
       "      <th></th>\n",
       "      <th></th>\n",
       "      <th></th>\n",
       "      <th></th>\n",
       "      <th></th>\n",
       "      <th></th>\n",
       "      <th></th>\n",
       "      <th></th>\n",
       "      <th></th>\n",
       "      <th></th>\n",
       "      <th></th>\n",
       "      <th></th>\n",
       "      <th></th>\n",
       "      <th></th>\n",
       "      <th></th>\n",
       "      <th></th>\n",
       "    </tr>\n",
       "  </thead>\n",
       "  <tbody>\n",
       "    <tr>\n",
       "      <th>2005-01</th>\n",
       "      <td>SPY</td>\n",
       "      <td>82.933676</td>\n",
       "      <td>83.070128</td>\n",
       "      <td>79.392844</td>\n",
       "      <td>80.614067</td>\n",
       "      <td>1184211500</td>\n",
       "      <td>-0.022420</td>\n",
       "      <td>-0.025290</td>\n",
       "      <td>0.006447</td>\n",
       "      <td>0.002870</td>\n",
       "      <td>...</td>\n",
       "      <td>121.000000</td>\n",
       "      <td>1.010000</td>\n",
       "      <td>9.450000</td>\n",
       "      <td>SPDR State Street Global Advisors</td>\n",
       "      <td>Large Blend</td>\n",
       "      <td>1993-01-22</td>\n",
       "      <td>0.003573</td>\n",
       "      <td>504</td>\n",
       "      <td>True</td>\n",
       "      <td>True</td>\n",
       "    </tr>\n",
       "    <tr>\n",
       "      <th>2005-02</th>\n",
       "      <td>SPY</td>\n",
       "      <td>80.675479</td>\n",
       "      <td>83.008700</td>\n",
       "      <td>80.573141</td>\n",
       "      <td>82.299217</td>\n",
       "      <td>1025608400</td>\n",
       "      <td>0.020904</td>\n",
       "      <td>0.018903</td>\n",
       "      <td>0.006730</td>\n",
       "      <td>0.002001</td>\n",
       "      <td>...</td>\n",
       "      <td>121.000000</td>\n",
       "      <td>1.010000</td>\n",
       "      <td>9.450000</td>\n",
       "      <td>SPDR State Street Global Advisors</td>\n",
       "      <td>Large Blend</td>\n",
       "      <td>1993-01-22</td>\n",
       "      <td>0.003573</td>\n",
       "      <td>504</td>\n",
       "      <td>True</td>\n",
       "      <td>True</td>\n",
       "    </tr>\n",
       "    <tr>\n",
       "      <th>2005-03</th>\n",
       "      <td>SPY</td>\n",
       "      <td>82.428789</td>\n",
       "      <td>84.086674</td>\n",
       "      <td>79.622477</td>\n",
       "      <td>80.793709</td>\n",
       "      <td>1330548800</td>\n",
       "      <td>-0.018293</td>\n",
       "      <td>-0.019118</td>\n",
       "      <td>0.006339</td>\n",
       "      <td>0.000825</td>\n",
       "      <td>...</td>\n",
       "      <td>121.000000</td>\n",
       "      <td>1.010000</td>\n",
       "      <td>9.450000</td>\n",
       "      <td>SPDR State Street Global Advisors</td>\n",
       "      <td>Large Blend</td>\n",
       "      <td>1993-01-22</td>\n",
       "      <td>0.003573</td>\n",
       "      <td>504</td>\n",
       "      <td>True</td>\n",
       "      <td>True</td>\n",
       "    </tr>\n",
       "    <tr>\n",
       "      <th>2005-04</th>\n",
       "      <td>SPY</td>\n",
       "      <td>81.252579</td>\n",
       "      <td>81.684066</td>\n",
       "      <td>77.773181</td>\n",
       "      <td>79.280006</td>\n",
       "      <td>1633318500</td>\n",
       "      <td>-0.018735</td>\n",
       "      <td>-0.020109</td>\n",
       "      <td>0.009503</td>\n",
       "      <td>0.001373</td>\n",
       "      <td>...</td>\n",
       "      <td>121.000000</td>\n",
       "      <td>1.010000</td>\n",
       "      <td>9.450000</td>\n",
       "      <td>SPDR State Street Global Advisors</td>\n",
       "      <td>Large Blend</td>\n",
       "      <td>1993-01-22</td>\n",
       "      <td>0.003573</td>\n",
       "      <td>504</td>\n",
       "      <td>True</td>\n",
       "      <td>True</td>\n",
       "    </tr>\n",
       "    <tr>\n",
       "      <th>2005-05</th>\n",
       "      <td>SPY</td>\n",
       "      <td>79.499193</td>\n",
       "      <td>82.362160</td>\n",
       "      <td>78.629339</td>\n",
       "      <td>81.834778</td>\n",
       "      <td>1334647300</td>\n",
       "      <td>0.032225</td>\n",
       "      <td>0.029952</td>\n",
       "      <td>0.006390</td>\n",
       "      <td>0.002273</td>\n",
       "      <td>...</td>\n",
       "      <td>121.000000</td>\n",
       "      <td>1.010000</td>\n",
       "      <td>9.450000</td>\n",
       "      <td>SPDR State Street Global Advisors</td>\n",
       "      <td>Large Blend</td>\n",
       "      <td>1993-01-22</td>\n",
       "      <td>0.003573</td>\n",
       "      <td>504</td>\n",
       "      <td>True</td>\n",
       "      <td>True</td>\n",
       "    </tr>\n",
       "  </tbody>\n",
       "</table>\n",
       "<p>5 rows × 24 columns</p>\n",
       "</div>"
      ],
      "text/plain": [
       "        ETF_Ticker  ETF_Open  ETF_High   ETF_Low  ETF_Close  ETF_Volume  \\\n",
       "Date                                                                      \n",
       "2005-01        SPY 82.933676 83.070128 79.392844  80.614067  1184211500   \n",
       "2005-02        SPY 80.675479 83.008700 80.573141  82.299217  1025608400   \n",
       "2005-03        SPY 82.428789 84.086674 79.622477  80.793709  1330548800   \n",
       "2005-04        SPY 81.252579 81.684066 77.773181  79.280006  1633318500   \n",
       "2005-05        SPY 79.499193 82.362160 78.629339  81.834778  1334647300   \n",
       "\n",
       "         ETF_Return  Benchmark_Return  Benchmark_Volatility  Tracking_Error  \\\n",
       "Date                                                                          \n",
       "2005-01   -0.022420         -0.025290              0.006447        0.002870   \n",
       "2005-02    0.020904          0.018903              0.006730        0.002001   \n",
       "2005-03   -0.018293         -0.019118              0.006339        0.000825   \n",
       "2005-04   -0.018735         -0.020109              0.009503        0.001373   \n",
       "2005-05    0.032225          0.029952              0.006390        0.002273   \n",
       "\n",
       "         ... Dividend_Yield_pct     Beta  Expense_Ratio_pct  \\\n",
       "Date     ...                                                  \n",
       "2005-01  ...         121.000000 1.010000           9.450000   \n",
       "2005-02  ...         121.000000 1.010000           9.450000   \n",
       "2005-03  ...         121.000000 1.010000           9.450000   \n",
       "2005-04  ...         121.000000 1.010000           9.450000   \n",
       "2005-05  ...         121.000000 1.010000           9.450000   \n",
       "\n",
       "                               Fund_Family  Fund_Category  Inception_Date  \\\n",
       "Date                                                                        \n",
       "2005-01  SPDR State Street Global Advisors    Large Blend      1993-01-22   \n",
       "2005-02  SPDR State Street Global Advisors    Large Blend      1993-01-22   \n",
       "2005-03  SPDR State Street Global Advisors    Large Blend      1993-01-22   \n",
       "2005-04  SPDR State Street Global Advisors    Large Blend      1993-01-22   \n",
       "2005-05  SPDR State Street Global Advisors    Large Blend      1993-01-22   \n",
       "\n",
       "         Pct_in_Top10_Holdings Total_Holdings Optionable Shortable  \n",
       "Date                                                                \n",
       "2005-01               0.003573            504       True      True  \n",
       "2005-02               0.003573            504       True      True  \n",
       "2005-03               0.003573            504       True      True  \n",
       "2005-04               0.003573            504       True      True  \n",
       "2005-05               0.003573            504       True      True  \n",
       "\n",
       "[5 rows x 24 columns]"
      ]
     },
     "metadata": {},
     "output_type": "display_data"
    }
   ],
   "source": [
    "# Define ETF–Benchmark pairs \n",
    "etf_benchmark_pairs = [\n",
    "    (\"SPY\", \"^GSPC\"), (\"DIA\", \"^DJI\"), (\"QQQ\", \"^NDX\"), (\"MDY\", \"^SP400\"), (\"RSP\", \"^SPXEW\"),\n",
    "    (\"IVV\", \"^GSPC\"), (\"IJR\", \"^SP600\"), (\"IJH\", \"^SP400\"), (\"IWM\", \"^RUT\"), (\"IWB\", \"^RUI\"),\n",
    "    (\"IWV\", \"^RUA\"), (\"IWF\", \"^RLG\"), (\"IWD\", \"^RLV\"), (\"IWO\", \"^RUO\"), (\"IWN\", \"^RUJ\"),\n",
    "    (\"VTI\", \"^W5000\"), (\"ONEQ\", \"^IXIC\"), (\"IBB\", \"^NBI\"), (\"IDU\", \"^DJU\"),\n",
    "    (\"IYT\", \"^DJT\"), (\"XLB\", \"^SP500-15\"), (\"XLI\", \"^SP500-20\"), (\"XLY\", \"^SP500-25\"),\n",
    "    (\"XLP\", \"^SP500-30\"), (\"XLV\", \"^SP500-35\"), (\"XLF\", \"^SP500-40\"), (\"XLK\", \"^SP500-45\"),\n",
    "    (\"XLU\", \"^SP500-55\"), (\"XLE\", \"^GSPE\"), (\"SMH\", \"^SOX\"), (\"SOXX\", \"^SOX\"), (\"OIH\", \"^OSX\"),\n",
    "    (\"OEF\", \"^OEX\"), (\"IYY\", \"^DJUS\"), (\"IYG\", \"^BKX\")\n",
    "]\n",
    "\n",
    "# Loop over each pair \n",
    "all_dfs = []\n",
    "\n",
    "for i, (etf, bench) in enumerate(etf_benchmark_pairs, 1):\n",
    "    print(f\"Processing {i}/{len(etf_benchmark_pairs)}: {etf} ~ {bench}\")\n",
    "\n",
    "    try:\n",
    "        # 1-month buffer at start\n",
    "        ts_df = build_monthly_te_series(etf, bench, start=\"2004-12-01\", end=\"2024-12-31\")\n",
    "        static_row = extract_etf_features([etf], [bench]).iloc[0]\n",
    "        static_df = pd.DataFrame([static_row.to_dict()] * len(ts_df), index=ts_df.index)\n",
    "\n",
    "        df_combined = pd.concat([ts_df, static_df], axis=1)\n",
    "        df_combined = df_combined[[\"ETF_Ticker\"] + [c for c in df_combined.columns if c != \"ETF_Ticker\"]]\n",
    "        all_dfs.append(df_combined)\n",
    "\n",
    "        # Delay between requests\n",
    "        time.sleep(1)\n",
    "\n",
    "    except Exception as e:\n",
    "        print(f\"⚠️ Failed to process {etf}: {e}\")\n",
    "        continue\n",
    "\n",
    "# Concatenate & Export \n",
    "etf_data = pd.concat(all_dfs)\n",
    "etf_data.index.name = \"Date\"\n",
    "display(etf_data.head())\n",
    "etf_data.to_excel(\"etf_data.xlsx\")"
   ]
  }
 ],
 "metadata": {
  "kernelspec": {
   "display_name": "Python 3",
   "language": "python",
   "name": "python3"
  },
  "language_info": {
   "codemirror_mode": {
    "name": "ipython",
    "version": 3
   },
   "file_extension": ".py",
   "mimetype": "text/x-python",
   "name": "python",
   "nbconvert_exporter": "python",
   "pygments_lexer": "ipython3",
   "version": "3.12.0"
  }
 },
 "nbformat": 4,
 "nbformat_minor": 5
}
